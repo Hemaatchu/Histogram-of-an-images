{
 "cells": [
  {
   "cell_type": "code",
   "execution_count": null,
   "id": "77270d5d-50ec-4d1f-a6bf-4125a4f13a3b",
   "metadata": {},
   "outputs": [],
   "source": [
    "# Developed By: DEEPIKA R\n",
    "# Register Number: 212223230038\n",
    "import cv2\n",
    "import numpy as np\n",
    "import matplotlib.pyplot as plt"
   ]
  },
  {
   "cell_type": "code",
   "execution_count": null,
   "id": "c7911eea-27b1-401a-96e7-b5c52e57855d",
   "metadata": {},
   "outputs": [],
   "source": [
    "# Load image\n",
    "image = cv2.imread('images.jpg')\n",
    "gray_image = cv2.cvtColor(image, cv2.COLOR_BGR2GRAY)"
   ]
  },
  {
   "cell_type": "code",
   "execution_count": null,
   "id": "3c3fcdd0-c41c-43ed-a8da-c4340590dae5",
   "metadata": {},
   "outputs": [],
   "source": [
    "# Histogram before equalization\n",
    "hist_original = cv2.calcHist([gray_image], [0], None, [256], [0, 256])"
   ]
  },
  {
   "cell_type": "code",
   "execution_count": null,
   "id": "fd1e6cca-f62c-455e-91c6-b2885fccea96",
   "metadata": {},
   "outputs": [],
   "source": [
    "# Equalized image\n",
    "equalized_image = cv2.equalizeHist(gray_image)\n",
    "hist_equalized = cv2.calcHist([equalized_image], [0], None, [256], [0, 256])\n",
    "\n",
    "plt.figure(figsize=(10, 7))"
   ]
  },
  {
   "cell_type": "code",
   "execution_count": null,
   "id": "85c2acb6-6c28-494d-ac26-490412c47b3b",
   "metadata": {},
   "outputs": [],
   "source": [
    "# Original grayscale image\n",
    "plt.subplot(2, 2, 1)\n",
    "plt.imshow(gray_image, cmap='gray')\n",
    "plt.title('Original Grayscale Image')\n",
    "plt.axis('off')"
   ]
  },
  {
   "cell_type": "code",
   "execution_count": null,
   "id": "68334744-7bac-422f-99dd-2c50d07c6b82",
   "metadata": {},
   "outputs": [],
   "source": [
    "# Equalized image\n",
    "plt.subplot(2, 2, 2)\n",
    "plt.imshow(equalized_image, cmap='gray')\n",
    "plt.title('Equalized Image')\n",
    "plt.axis('off')"
   ]
  },
  {
   "cell_type": "code",
   "execution_count": null,
   "id": "764fb738-f9ea-479a-9cfe-cfe5395f11e1",
   "metadata": {},
   "outputs": [],
   "source": [
    "# Original histogram (bars instead of line)\n",
    "plt.subplot(2, 2, 3)\n",
    "plt.plot(hist_original / hist_original.max(), color='black')"
   ]
  },
  {
   "cell_type": "code",
   "execution_count": null,
   "id": "bcc3b07a-b102-422d-82d0-1432f938f113",
   "metadata": {},
   "outputs": [],
   "source": [
    "plt.bar(range(256), hist_original.ravel(), width=1.0, color='black')\n",
    "plt.title('Original Histogram')\n",
    "plt.xlim([0, 256])"
   ]
  },
  {
   "cell_type": "code",
   "execution_count": null,
   "id": "eb369f31-6f74-4d6b-9e39-28e7f974f66d",
   "metadata": {},
   "outputs": [],
   "source": [
    "plt.bar(range(256), hist_original.ravel(), width=1.0, color='black')\n",
    "plt.title('Original Histogram')\n",
    "plt.xlim([0, 256])"
   ]
  },
  {
   "cell_type": "code",
   "execution_count": null,
   "id": "75620f7f-f32e-4940-be3b-49549feaade3",
   "metadata": {},
   "outputs": [],
   "source": [
    "# Equalized histogram (bars instead of line)\n",
    "plt.subplot(2, 2, 4)\n",
    "plt.bar(range(256), hist_equalized.ravel(), width=1.0, color='black')\n",
    "plt.title('Equalized Histogram')\n",
    "plt.xlim([0, 256])\n",
    "\n",
    "plt.tight_layout()\n",
    "plt.show()"
   ]
  }
 ],
 "metadata": {
  "kernelspec": {
   "display_name": "Python 3 (ipykernel)",
   "language": "python",
   "name": "python3"
  },
  "language_info": {
   "codemirror_mode": {
    "name": "ipython",
    "version": 3
   },
   "file_extension": ".py",
   "mimetype": "text/x-python",
   "name": "python",
   "nbconvert_exporter": "python",
   "pygments_lexer": "ipython3",
   "version": "3.11.3"
  }
 },
 "nbformat": 4,
 "nbformat_minor": 5
}
